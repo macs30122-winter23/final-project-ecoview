{
 "cells": [
  {
   "cell_type": "code",
   "execution_count": null,
   "metadata": {},
   "outputs": [],
   "source": [
    "import requests\n",
    "from bs4 import BeautifulSoup\n",
    "import csv\n",
    "\n",
    "# send a GET request to the website\n",
    "url = 'https://www.govtrack.us/congress/bills/subjects/environmental_protection/6038#sort=introduced_date&congress=116'\n",
    "response = requests.get(url)\n",
    "\n",
    "# check if the request was successful\n",
    "if response.status_code == 200:\n",
    "    print('Request successful')\n",
    "else:\n",
    "    print(f'Request failed with status code {response.status_code}')\n",
    "    exit()\n",
    "\n",
    "# parse the HTML content of the website\n",
    "soup = BeautifulSoup(response.text, 'html.parser')\n",
    "\n",
    "# find the main table containing the bill information\n",
    "bill_table = soup.find('table', {'id': 'bill_list'})\n",
    "\n",
    "# check if the table was found\n",
    "if bill_table is None:\n",
    "    print('Bill table not found')\n",
    "    exit()\n",
    "\n",
    "# create a list to store the bill information\n",
    "bill_info = []\n",
    "\n",
    "# loop through each row of the table and extract the relevant information\n",
    "for row in bill_table.find_all('tr')[1:]:\n",
    "    columns = row.find_all('td')\n",
    "    bill_number = columns[0].text.strip()\n",
    "    bill_title = columns[1].text.strip()\n",
    "    introduced_date = columns[2].text.strip()\n",
    "    sponsor = columns[3].text.strip()\n",
    "    status = columns[4].text.strip()\n",
    "\n",
    "    # add the extracted information to the list\n",
    "    bill_info.append({\n",
    "        'bill_number': bill_number,\n",
    "        'bill_title': bill_title,\n",
    "        'introduced_date': introduced_date,\n",
    "        'sponsor': sponsor,\n",
    "        'status': status\n",
    "    })\n",
    "\n",
    "# write the extracted information to a CSV file\n",
    "filename = 'environmental_protection_bills.csv'\n",
    "with open(filename, 'w', newline='') as csvfile:\n",
    "    fieldnames = ['bill_number', 'bill_title', 'introduced_date', 'sponsor', 'status']\n",
    "    writer = csv.DictWriter(csvfile, fieldnames=fieldnames)\n",
    "\n",
    "    writer.writeheader()\n",
    "    for bill in bill_info:\n",
    "        writer.writerow(bill)\n",
    "\n",
    "print(f'{len(bill_info)} bills extracted and written to {filename}')\n"
   ]
  }
 ],
 "metadata": {
  "kernelspec": {
   "display_name": "Python 3.9.13 ('base')",
   "language": "python",
   "name": "python3"
  },
  "language_info": {
   "codemirror_mode": {
    "name": "ipython",
    "version": 3
   },
   "file_extension": ".py",
   "mimetype": "text/x-python",
   "name": "python",
   "nbconvert_exporter": "python",
   "pygments_lexer": "ipython3",
   "version": "3.9.13"
  },
  "orig_nbformat": 4,
  "vscode": {
   "interpreter": {
    "hash": "c4ba7e12f488ae6c3986849fa75f5c338a09f55952d1cca0020d27ad7cf9ffa3"
   }
  }
 },
 "nbformat": 4,
 "nbformat_minor": 2
}
